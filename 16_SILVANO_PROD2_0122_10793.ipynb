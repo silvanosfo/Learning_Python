{
 "cells": [
  {
   "cell_type": "markdown",
   "id": "95f976d3",
   "metadata": {},
   "source": [
    "#### INSTITUTO DO EMPREGO E FORMAÇÃO PROFISSIONAL, I. P.\n",
    "#### DELEGAÇÃO REGIONAL DO NORTE\n",
    "#### CENTRO DE EMPREGO E FORMAÇÃO PROFISSIONAL DE BRAGA"
   ]
  },
  {
   "cell_type": "markdown",
   "id": "8daf1be5",
   "metadata": {},
   "source": [
    "## EFA Tecnológico – Programador/a de Informática\n",
    "### Turma: 01/22\n",
    "### Data : 08-03-2023\n",
    "### UFCD : 10793 – Fundamentos de Python"
   ]
  },
  {
   "cell_type": "markdown",
   "id": "daec4993",
   "metadata": {},
   "source": [
    "# Nome:"
   ]
  },
  {
   "cell_type": "code",
   "execution_count": null,
   "id": "67c8dcdb",
   "metadata": {},
   "outputs": [],
   "source": [
    "print('Silvano Oliveira')"
   ]
  },
  {
   "cell_type": "markdown",
   "id": "ea511639",
   "metadata": {},
   "source": [
    "# Nº"
   ]
  },
  {
   "cell_type": "code",
   "execution_count": null,
   "id": "56f6e058",
   "metadata": {},
   "outputs": [],
   "source": [
    "print('16')"
   ]
  },
  {
   "cell_type": "markdown",
   "id": "69369b69",
   "metadata": {},
   "source": [
    "<center><h1> Enunciado </h1></center>"
   ]
  },
  {
   "cell_type": "markdown",
   "id": "3404fb72",
   "metadata": {},
   "source": [
    "<h3>1. Crie um ficheiro (seu_nome).json a partir do dicionario. Dê o seu nome ao ficheiro.(4 pontos)</h3> \n",
    "<code>\n",
    "dic = {'Aluno 1': {'nome': 'Luis', 'idade': 25, 'Turma': 'Pi0121'}, 'Aluno 2': {'nome': 'Rosa', 'idade': 30, 'Turma': 'Pi0121'}}\n",
    "\n",
    "Resultado\n",
    "{\n",
    " \"Aluno 1\": {\n",
    "  \"nome\": \"Luis\",\n",
    "  \"idade\": 25,\n",
    "  \"Turma\": \"Pi0121\"\n",
    " },\n",
    " \"Aluno 2\": {\n",
    "  \"nome\": \"Rosa\",\n",
    "  \"idade\": 30,\n",
    "  \"Turma\": \"Pi0121\"\n",
    " }\n",
    "}\n",
    "    \n",
    "Nota: Enviar o ficheiro .json criado ao formador.\n",
    "</code>"
   ]
  },
  {
   "cell_type": "code",
   "execution_count": null,
   "id": "064c68ec",
   "metadata": {},
   "outputs": [],
   "source": [
    "import json\n",
    "\n",
    "dic = {\n",
    "    'Aluno 1': {\n",
    "        'nome': 'Luis',\n",
    "        'idade': 25,\n",
    "        'Turma': 'Pi0121'\n",
    "    }, \n",
    "    'Aluno 2': {\n",
    "        'nome': 'Rosa',\n",
    "        'idade': 30,\n",
    "        'Turma': 'Pi0121'\n",
    "        }\n",
    "    }\n",
    "dic_json = json.dumps( dic, indent=True)\n",
    "\n",
    "# Escreve ficheiro\n",
    "with open('silvano_oliveira.json', 'w+') as file:\n",
    "    file.write(dic_json)\n",
    "\n",
    "# Load ficheiro em memória\n",
    "with open('silvano_oliveira.json','r') as file:\n",
    "    lerjson = file.read()\n",
    "\n",
    "print(lerjson)"
   ]
  },
  {
   "cell_type": "markdown",
   "id": "2ac12391",
   "metadata": {},
   "source": [
    "<h3>2. Considere um programa para uma instituição bancária. Supondo que tem uma conta nessa instituíção com as seguintes características: número, titular, saldo e limite.(4 pontos)</h3>\n",
    "<code>\n",
    "conta1 = {\"numero\": '0004', \"titular\": \"Pedro\", \"saldo\": 120.0, \"limite\": 1000.0}\n",
    "E se a necessidade de representar mais de uma conta surgir?\n",
    "conta2 = {\"numero\": '0005', \"titular\": \"Filipe\", \"saldo\": 200.0, \"limite\": 1000.0}\n",
    "A nossa instituíção pode vir a crescer e ter milhares de contas e, da forma como está o programa, \n",
    "seria muito trabalhoso fazer a manutenção.\n",
    "</code>\n",
    "<h3>Construa uma função criar_conta(), em que fornecendo  os dados 0006, Rita, 300.0, 1000.0, crie a conta3.</h3>\n",
    "<code>\n",
    "Resultado:\n",
    "print(conta1) \n",
    "print(conta2)\n",
    "print(conta3)\n",
    "{'numero': '0004', 'titular': 'Pedro', 'saldo': 120.0, 'limite': 1000.0}\n",
    "{'numero': '0005', 'titular': 'Filipe', 'saldo': 200.0, 'limite': 1000.0} \n",
    "{'numero': '0006', 'titular': 'Rita', 'saldo': 300.0, 'limite': 1000.0}\n",
    "</code>"
   ]
  },
  {
   "cell_type": "code",
   "execution_count": null,
   "id": "8fbe94c5",
   "metadata": {},
   "outputs": [],
   "source": [
    "def criar_conta(numero, titular, saldo, limite):\n",
    "    dados = {\n",
    "        'numero': numero,\n",
    "        'titular': titular,\n",
    "        'saldo': saldo,\n",
    "        'limite': limite\n",
    "        }\n",
    "    return dados\n",
    "    \n",
    "\n",
    "conta1 = criar_conta('0004', 'Pedro', 120.0, 1000.0)\n",
    "conta2 = criar_conta('0005', 'Filipe', 200.0, 1000.0)\n",
    "conta3 = criar_conta('0006', 'Rita', 300.0, 1000.0)\n",
    "\n",
    "print(conta1)\n",
    "print(conta2)\n",
    "print(conta3)"
   ]
  },
  {
   "cell_type": "markdown",
   "id": "19484c32",
   "metadata": {},
   "source": [
    "<h3>3. Na alínea anterior temos as características de uma conta. O próximo passo será descrever as suas funcionalidades, para isso teremos que criar mais três funções: depositar(), retirar() e extrato().(6 pontos)</h3>\n",
    "<h4>a.\tA função depositar() recebe como argumento uma conta e um valor . Dentro da função, adicione o valor ao saldo da conta.</h4>\n",
    "<h4>b.\tA função retirar() recebe como argumento uma conta e um valor . Dentro da função, subtraia o valor do saldo da conta.</h4>\n",
    "<h4>c.\tA função extrato() , recebe como argumento uma conta e imprime o numero e o saldo.</h4>\n",
    "<code>\n",
    "Execute o seguinte teste:\n",
    "Depositar(conta3, 50.0)\n",
    "Extrato(conta3)\n",
    "Retirar(conta3, 20.0)\n",
    "Extrato(conta3)\n",
    "\n",
    "Resultado: \n",
    "0006\n",
    "350.0\n",
    "0006\n",
    "330.0\n",
    "</code>"
   ]
  },
  {
   "cell_type": "code",
   "execution_count": null,
   "id": "7d33ed70",
   "metadata": {},
   "outputs": [],
   "source": [
    "def depositar(conta, valor):\n",
    "    conta['saldo'] += valor\n",
    "\n",
    "\n",
    "def retirar(conta, valor):\n",
    "    conta['saldo'] -= valor\n",
    "\n",
    "\n",
    "def extrato(conta):\n",
    "    print(conta['numero'], conta['saldo'])\n",
    "\n",
    "\n",
    "depositar(conta3, 50.0)\n",
    "extrato(conta3)\n",
    "retirar(conta3, 20.0)\n",
    "extrato(conta3)"
   ]
  },
  {
   "cell_type": "markdown",
   "id": "9ada0b3e",
   "metadata": {},
   "source": [
    "<h3>4. Crie uma classe construtora Televisão com atributos marca e tamanho.(6 pontos)</h3> \n",
    "<h3>Crie dois objetos Televisão e atribua tamanhos e marcas diferentes.</h3>\n",
    "<h3>Depois, imprima o valor desses atributos de forma a confirmar a independência dos valores de cada instância (objeto).</h3>\n",
    "<code>\n",
    "class televisão:\n",
    "\tdef__init__()\n",
    "...    \n",
    "...\n",
    "print(f\"tv1 ...\")\n",
    "print(f\"tv2 ...\")    \n",
    "    \n",
    "Resultado do print:\n",
    "    \n",
    "tv1 tamanho = 27 e marca = Samsung\n",
    "tv2 tamanho = 52 e marca = Philips\n",
    "</code>"
   ]
  },
  {
   "cell_type": "code",
   "execution_count": null,
   "id": "6ef548a1",
   "metadata": {},
   "outputs": [],
   "source": [
    "class Televisao:\n",
    "    def __init__(self, marca, tamanho):\n",
    "        self.marca = marca\n",
    "        self.tamanho = tamanho\n",
    "\n",
    "\n",
    "tv1 = Televisao('Samsung', 27)\n",
    "tv2 = Televisao('Philips', 52)\n",
    "\n",
    "print(f'tv1 tamanho = {tv1.tamanho} e marca = {tv1.marca}')\n",
    "print(f'tv2 tamanho = {tv2.tamanho} e marca = {tv2.marca}')"
   ]
  }
 ],
 "metadata": {
  "kernelspec": {
   "display_name": "Python 3.9.13 ('base')",
   "language": "python",
   "name": "python3"
  },
  "language_info": {
   "codemirror_mode": {
    "name": "ipython",
    "version": 3
   },
   "file_extension": ".py",
   "mimetype": "text/x-python",
   "name": "python",
   "nbconvert_exporter": "python",
   "pygments_lexer": "ipython3",
   "version": "3.9.13"
  },
  "vscode": {
   "interpreter": {
    "hash": "4b38943a9a879dcac3695800406f6a18a208f4886272f9c9741eaf1ca4602d6e"
   }
  }
 },
 "nbformat": 4,
 "nbformat_minor": 5
}
