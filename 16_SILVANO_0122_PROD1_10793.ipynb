{
 "cells": [
  {
   "cell_type": "markdown",
   "id": "95f976d3",
   "metadata": {},
   "source": [
    "#### INSTITUTO DO EMPREGO E FORMAÇÃO PROFISSIONAL, I. P.\n",
    "#### DELEGAÇÃO REGIONAL DO NORTE\n",
    "#### CENTRO DE EMPREGO E FORMAÇÃO PROFISSIONAL DE BRAGA"
   ]
  },
  {
   "cell_type": "markdown",
   "id": "8daf1be5",
   "metadata": {},
   "source": [
    "## EFA Tecnológico – Programador/a de Informática\n",
    "### Turma: 01/22\n",
    "### Data : 02-03-2023\n",
    "### UFCD : 10793 – Fundamentos de Python"
   ]
  },
  {
   "cell_type": "markdown",
   "id": "daec4993",
   "metadata": {},
   "source": [
    "# Nome:"
   ]
  },
  {
   "cell_type": "code",
   "execution_count": null,
   "id": "67c8dcdb",
   "metadata": {},
   "outputs": [],
   "source": [
    "print('Silvano Oliveira')"
   ]
  },
  {
   "cell_type": "markdown",
   "id": "ea511639",
   "metadata": {},
   "source": [
    "# Nº"
   ]
  },
  {
   "cell_type": "code",
   "execution_count": null,
   "id": "56f6e058",
   "metadata": {},
   "outputs": [],
   "source": [
    "print('16')"
   ]
  },
  {
   "cell_type": "markdown",
   "id": "69369b69",
   "metadata": {},
   "source": [
    "<center><h1> Enunciado </h1></center>"
   ]
  },
  {
   "cell_type": "markdown",
   "id": "aa976a05",
   "metadata": {},
   "source": [
    "<h3>1. Escreva um programa que dado um número até 10, imprima de 3 em 3 até 30.(2 ponto)</h3>\n",
    "\n",
    "<code>Resultado exemplo:\n",
    "3\n",
    "6\n",
    "9\n",
    "12\n",
    "15\n",
    "18\n",
    "21\n",
    "24\n",
    "27\n",
    "30</code>"
   ]
  },
  {
   "cell_type": "code",
   "execution_count": null,
   "id": "355bb8a2",
   "metadata": {},
   "outputs": [],
   "source": [
    "numero = int(input('Introduza um numero: '))\n",
    "\n",
    "while numero <= 30:\n",
    "    print(numero)\n",
    "    numero += 3\n"
   ]
  },
  {
   "cell_type": "markdown",
   "id": "961f8feb",
   "metadata": {},
   "source": [
    "<h3>2. Escreva um programa que dado um numero mostre a tabuada desse numero.(2 ponto)</h3>\n",
    "<code>\n",
    "Resultado exemplo:\n",
    "Tabuada do: 9\n",
    "9 x 1 = 9\n",
    "9 x 2 = 18\n",
    "9 x 3 = 27\n",
    "9 x 4 = 36\n",
    "9 x 5 = 45\n",
    "9 x 6 = 54\n",
    "9 x 7 = 63\n",
    "9 x 8 = 72\n",
    "9 x 9 = 81\n",
    "9 x 10 = 90</code>"
   ]
  },
  {
   "cell_type": "code",
   "execution_count": null,
   "id": "db90a2b7",
   "metadata": {},
   "outputs": [],
   "source": [
    "numero = int(input('Introduza um numero: '))\n",
    "\n",
    "print('Tabuada do:', numero)\n",
    "\n",
    "for i in range(1,11):\n",
    "    resultado = numero * i\n",
    "    print(f'{numero} x {i} = {resultado}')"
   ]
  },
  {
   "cell_type": "markdown",
   "id": "0955101f",
   "metadata": {},
   "source": [
    "<h3>3. Dada duas listas, transforme-as em uma só uma lista.(4 pontos)</h3>\n",
    "<code>primeira = ['Alunos', 'turma', 'pi0121']\n",
    "segunda = ['teste', 'programacao', 'python'] \n",
    "</code>\n",
    "<code>\n",
    "Os resultados obtidos devem ser iguais à:\n",
    "0: Alunos     \n",
    "1: turma      \n",
    "2: pi0121     \n",
    "3: teste      \n",
    "4: programacao\n",
    "5: python     \n",
    "['Alunos', 'turma', 'pi0121', 'teste', 'programacao', 'python']\n",
    "</code>"
   ]
  },
  {
   "cell_type": "code",
   "execution_count": 74,
   "id": "317b9db6",
   "metadata": {},
   "outputs": [
    {
     "name": "stdout",
     "output_type": "stream",
     "text": [
      "0: Alunos\n",
      "1: turma\n",
      "2: pi0121\n",
      "3: teste\n",
      "4: programacao\n",
      "5: python\n",
      "['Alunos', 'turma', 'pi0121', 'teste', 'programacao', 'python']\n"
     ]
    }
   ],
   "source": [
    "primeira = ['Alunos', 'turma', 'pi0121']\n",
    "segunda = ['teste', 'programacao', 'python']\n",
    "\n",
    "juncao = primeira + segunda\n",
    "\n",
    "i = 0\n",
    "for elemento in juncao:\n",
    "    print(f'{i}: {elemento}')\n",
    "    i += 1\n",
    "\n",
    "print(juncao)"
   ]
  },
  {
   "cell_type": "markdown",
   "id": "dc93aeab",
   "metadata": {},
   "source": [
    "<h3>4. Utilizando a seguinte lista de tuplas:(4 pontos)</h3>\n",
    "<code>data = [('Pedro', 18, 7),\n",
    "        ('Ricardo', 15, 6),\n",
    "        ('Joana', 17, 8),\n",
    "        ('Miguel', 18, 7),\n",
    "        ('Rita', 17, 5) ]</code>\n",
    "<h3>Crie um Dataframe com a seguinte saída:</h3>\n",
    "<code>\n",
    "      Nome  Idade  Pontuação\n",
    "0    Pedro     18          7\n",
    "1  Ricardo     15          6\n",
    "2    Joana     17          8\n",
    "3   Miguel     18          7\n",
    "4     Rita     17          5\n",
    "</code>    "
   ]
  },
  {
   "cell_type": "code",
   "execution_count": null,
   "id": "18b3efed",
   "metadata": {},
   "outputs": [],
   "source": [
    "import pandas as pd\n",
    "\n",
    "data = [('Pedro', 18, 7),\n",
    "        ('Ricardo', 15, 6),\n",
    "        ('Joana', 17, 8),\n",
    "        ('Miguel', 18, 7),\n",
    "        ('Rita', 17, 5) ]\n",
    "\n",
    "data_df = pd.DataFrame(data)\n",
    "data_df.columns = ['Nome', 'Idade', 'Pontuação']\n",
    "print(data_df)"
   ]
  },
  {
   "cell_type": "markdown",
   "id": "df7cee22",
   "metadata": {},
   "source": [
    "<h3>5. Utilizando o ficheiro cafe.xlsx, altere os preços dos serviços para:(4 pontos)</h3>\n",
    "<code>\n",
    "balcão = 0,5\n",
    "Mesa = 1\n",
    "Esplanada = 1,5\n",
    "</code>\n",
    "<code>\n",
    "Resultado\n",
    "          Produtos  Preço Base       Tipo  Serviço   Iva  Preço Final\n",
    "0             Café         1.0       Mesa      1.0  1.23        2.460\n",
    "1            Leite         1.2       Mesa      1.0  1.23        2.706\n",
    "2          Cerveja         1.5  Esplanada      1.5  1.23        3.690\n",
    "3     Refrigerante         1.5  Esplanada      1.5  1.23        3.690\n",
    "4             Nata         0.9       Mesa      1.0  1.23        2.337\n",
    "5     Sumo natural         2.5       Mesa      1.0  1.23        4.305\n",
    "6            Tosta         2.5       Mesa      1.0  1.23        4.305\n",
    "7  Sande Americana         4.5  Esplanada      1.5  1.23        7.380\n",
    "8           Compal         1.6       Mesa      1.0  1.23        3.198\n",
    "9             Café         1.0     Balcão      0.5  1.23        1.845\n",
    "</code>"
   ]
  },
  {
   "cell_type": "code",
   "execution_count": null,
   "id": "b5bd1e57",
   "metadata": {},
   "outputs": [],
   "source": [
    "cafe_df = pd.read_excel('Cafe.xlsx')\n",
    "cafe_df.loc[cafe_df['Tipo'] == 'Balcão', 'Serviço'] = 0.5\n",
    "cafe_df.loc[cafe_df['Tipo'] == 'Mesa', 'Serviço'] = 1\n",
    "cafe_df.loc[cafe_df['Tipo'] == 'Esplanada', 'Serviço'] = 1.5\n",
    "cafe_df['Preço Final'] = (cafe_df['Preço Base'] + cafe_df['Serviço']) * cafe_df['Iva']\n",
    "print(cafe_df)"
   ]
  },
  {
   "cell_type": "markdown",
   "id": "9582c829",
   "metadata": {},
   "source": [
    "<h3>6. Calcule o resultado da soma total do Preço Final.(2 ponto)</h3>\n",
    "<code>\n",
    "Resultado\n",
    "Preço Final    35.916\n",
    "dtype: float64\n",
    "</code>"
   ]
  },
  {
   "cell_type": "code",
   "execution_count": 62,
   "id": "92d58ab8",
   "metadata": {},
   "outputs": [
    {
     "name": "stdout",
     "output_type": "stream",
     "text": [
      "Preço Final 35.916\n",
      "<class 'numpy.float64'>\n"
     ]
    }
   ],
   "source": [
    "resultado = cafe_df['Preço Final'].sum()\n",
    "\n",
    "print('Preço Final', resultado)\n",
    "print(type(resultado))"
   ]
  },
  {
   "cell_type": "markdown",
   "id": "ceaf656f",
   "metadata": {},
   "source": [
    "<h3>7. Calcule a soma Total do Balcão, Esplanada e Mesa.(2 ponto)</h3>\n",
    "<code>\n",
    "Resultado\n",
    "           Preço Final\n",
    "Tipo\n",
    "Balcão           1.845\n",
    "Esplanada       14.760\n",
    "Mesa            19.311\n",
    "</code>"
   ]
  },
  {
   "cell_type": "code",
   "execution_count": 99,
   "id": "ec42ace1",
   "metadata": {},
   "outputs": [
    {
     "name": "stdout",
     "output_type": "stream",
     "text": [
      "           Preço Final\n",
      "Tipo                  \n",
      "Balcão           1.845\n",
      "Esplanada       14.760\n",
      "Mesa            19.311\n"
     ]
    }
   ],
   "source": [
    "quantidade = cafe_df[['Tipo', 'Preço Final']].groupby('Tipo').sum()\n",
    "print(quantidade)"
   ]
  }
 ],
 "metadata": {
  "kernelspec": {
   "display_name": "Python 3.9.13 ('base')",
   "language": "python",
   "name": "python3"
  },
  "language_info": {
   "codemirror_mode": {
    "name": "ipython",
    "version": 3
   },
   "file_extension": ".py",
   "mimetype": "text/x-python",
   "name": "python",
   "nbconvert_exporter": "python",
   "pygments_lexer": "ipython3",
   "version": "3.9.13"
  },
  "vscode": {
   "interpreter": {
    "hash": "4b38943a9a879dcac3695800406f6a18a208f4886272f9c9741eaf1ca4602d6e"
   }
  }
 },
 "nbformat": 4,
 "nbformat_minor": 5
}
