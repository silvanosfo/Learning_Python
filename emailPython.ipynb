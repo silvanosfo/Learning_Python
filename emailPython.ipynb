{
 "cells": [
  {
   "cell_type": "code",
   "execution_count": 6,
   "metadata": {},
   "outputs": [
    {
     "name": "stdout",
     "output_type": "stream",
     "text": [
      "       Código Venda       Data                     ID Loja            Produto  \\\n",
      "0                 1 2019-01-01                 Nova Arcada     Sapato Estampa   \n",
      "1                 1 2019-01-01                 Nova Arcada           Camiseta   \n",
      "2                 1 2019-01-01                 Nova Arcada      Sapato Xadrez   \n",
      "3                 2 2019-01-02              Norte Shopping            Relógio   \n",
      "4                 2 2019-01-02              Norte Shopping       Chinelo Liso   \n",
      "...             ...        ...                         ...                ...   \n",
      "93905         65012 2019-11-30         Shopping Vila Velha     Mochila Xadrez   \n",
      "93906         65013 2019-11-30           Ribeirão Shopping  Pulseira Listrado   \n",
      "93907         65013 2019-11-30           Ribeirão Shopping     Cueca Listrado   \n",
      "93908         65014 2019-11-30  Shopping Armazém do Chiado     Pulseira Linho   \n",
      "93909         65014 2019-11-30  Shopping Armazém do Chiado      Casaco Xadrez   \n",
      "\n",
      "       Quantidade  Valor Unitário  Valor Final  \n",
      "0               1             358          358  \n",
      "1               2             180          360  \n",
      "2               1             368          368  \n",
      "3               3             200          600  \n",
      "4               1              71           71  \n",
      "...           ...             ...          ...  \n",
      "93905           2             283          566  \n",
      "93906           2              79          158  \n",
      "93907           3              67          201  \n",
      "93908           5             114          570  \n",
      "93909           4             259         1036  \n",
      "\n",
      "[93910 rows x 7 columns]\n"
     ]
    },
    {
     "data": {
      "text/plain": [
       "\"# integração com o outlook\\noutlook = win32.Dispatch('outlook.application')\\n\\n# criar email\\nmail = outlook.CreateItem(0)\\n\\n# email destino\\nmail.To = 'silva_oliv@hotmail.com'\\n\\n# assunto\\nmail.Subject = 'Teste de email'\\n\\n# corpo email\\nmail.HTMLBody = 'Olá bomdia.\\n\\nTeste de email do python em windows'\\n\\n# enviar\\nmail.Send()\\n\\nprint('Email enviado com sucesso')\""
      ]
     },
     "execution_count": 6,
     "metadata": {},
     "output_type": "execute_result"
    }
   ],
   "source": [
    "# enviar email exemplo\n",
    "import win32com.client as win32\n",
    "\n",
    "# ============== COM PANDAS\n",
    "import pandas as pd\n",
    "\n",
    "# Importar a minha base de dados\n",
    "tabelas_vendas = pd.read_excel('Vendass.xlsx')\n",
    "\n",
    "#pd.set_option('display.max_columns', 10)\n",
    "#print(tabelas_vendas)\n",
    "\n",
    "# Faturamento da Loja \n",
    "faturamento = tabelas_vendas[['ID Loja', 'Valor Final']].groupby('ID Loja').sum()\n",
    "#print(faturamento)\n",
    "\n",
    "# Quantidade de Produtos vendidos na loja\n",
    "quantidade = tabelas_vendas[['ID Loja', 'Quantidade']].groupby('ID Loja').sum()\n",
    "#print(quantidade)\n",
    "\n",
    "# Retorna uma coluna do tipo dataframe\n",
    "ticket_medio = (faturamento['Valor Final'] / quantidade['Quantidade']).to_frame()\n",
    "\n",
    "# Renomear a coluna 0\n",
    "ticket_medio = ticket_medio.rename(columns={0: 'Ticket Médio'})\n",
    "#print(ticket_medio)\n",
    "# ==============\n",
    "\n",
    "# integração com o outlook\n",
    "outlook = win32.Dispatch('outlook.application')\n",
    "\n",
    "# criar email\n",
    "mail = outlook.CreateItem(0)\n",
    "\n",
    "# email destino\n",
    "mail.To = 'silva_oliv@hotmail.com'\n",
    "\n",
    "# assunto\n",
    "mail.Subject = 'Relatório de vendas por loja'\n",
    "\n",
    "# corpo email\n",
    "mail.HTMLBody = f'''\n",
    "<p>Olá bomdia.</p>\n",
    "<p>Segue o relatório de vendas por cada loja</p>\n",
    "<p>Faturamento</p>\n",
    "{faturamento.to_html(formatters={'Valor Final': '€{:.2f}'.format})}\n",
    "<p>Quantidade vendida</p>\n",
    "{quantidade.to_html()}\n",
    "<p>Ticket Médio dos produtos em cada loja</p>\n",
    "{ticket_medio.to_html(formatters={'Ticket Médio': '€{:.2f}'})}\n",
    "<p>Qualquer dúvida, nao me incomode</p>\n",
    "<p>Atenciosamente,</p>\n",
    "<p>Unknown WebSurfer</p>\n",
    "'''\n",
    "\n",
    "# enviar\n",
    "mail.Send()\n",
    "\n",
    "print('Email enviado com sucesso')"
   ]
  }
 ],
 "metadata": {
  "kernelspec": {
   "display_name": "Python 3.9.13 ('base')",
   "language": "python",
   "name": "python3"
  },
  "language_info": {
   "codemirror_mode": {
    "name": "ipython",
    "version": 3
   },
   "file_extension": ".py",
   "mimetype": "text/x-python",
   "name": "python",
   "nbconvert_exporter": "python",
   "pygments_lexer": "ipython3",
   "version": "3.9.13"
  },
  "orig_nbformat": 4,
  "vscode": {
   "interpreter": {
    "hash": "4b38943a9a879dcac3695800406f6a18a208f4886272f9c9741eaf1ca4602d6e"
   }
  }
 },
 "nbformat": 4,
 "nbformat_minor": 2
}
